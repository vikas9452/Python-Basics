{
 "cells": [
  {
   "cell_type": "code",
   "execution_count": null,
   "id": "f7c972dd",
   "metadata": {},
   "outputs": [],
   "source": [
    "Ans 1. Values are 'VGU',-89.5,6 and expressions are *,-,/,+"
   ]
  },
  {
   "cell_type": "code",
   "execution_count": null,
   "id": "b6146b40",
   "metadata": {},
   "outputs": [],
   "source": [
    "Ans 2. A Variable is a store of information, and a String is a type of information you would store in a Variable. A String is usually words, enclosed with \"\" Eg String x =\"Welcome to SoloLearn\" X is the Variable, and we declared it as a String, use the single = to assign the text to it."
   ]
  },
  {
   "cell_type": "code",
   "execution_count": null,
   "id": "1b3faabd",
   "metadata": {},
   "outputs": [],
   "source": [
    "Ans 3. Strings \t\"Hello!\", \"23.34\" \tText - anything between \" \"  becomes string \tImmutable\n",
    "        Integers \t5364 \tWhole numbers \tImmutable\n",
    "        Floats \t3.1415 \tDecimal Numbers \tImmutable"
   ]
  },
  {
   "cell_type": "code",
   "execution_count": null,
   "id": "61d56686",
   "metadata": {},
   "outputs": [],
   "source": [
    "Ans 4. An expression in Python is a combination of operators and operands. An example of expression can be : x = x + 1 0 x = x + 10 x=x+10. In this expression, the first 1 0 10 10 is added to the variable x. After the addition is performed, the result is assigned to the variable x."
   ]
  },
  {
   "cell_type": "code",
   "execution_count": null,
   "id": "c967bb9e",
   "metadata": {},
   "outputs": [],
   "source": [
    "Ans 5. An expression is a combination of one or more values, operators, and/or function calls that can be evaluated to produce a single value. For example, 2 + 3 is an expression that evaluates to 5, and len(\"hello\") is an expression that evaluates to 5.\n",
    "\n",
    "On the other hand, a statement is a complete line of code that performs a specific action, such as assigning a value to a variable or calling a function. The assignment statement spam = 10 is an example of a statement, as it assigns the value 10 to the variable spam.\n",
    "\n",
    "In short, an expression produces a value, whereas a statement performs an action."
   ]
  },
  {
   "cell_type": "code",
   "execution_count": null,
   "id": "37a7f6dc",
   "metadata": {},
   "outputs": [],
   "source": [
    "Ans 6. 22"
   ]
  },
  {
   "cell_type": "code",
   "execution_count": 1,
   "id": "7ecd1abc",
   "metadata": {},
   "outputs": [
    {
     "name": "stdout",
     "output_type": "stream",
     "text": [
      "22\n"
     ]
    }
   ],
   "source": [
    "Ans 7. spamspamspam\n",
    "        spamspamspam"
   ]
  },
  {
   "cell_type": "code",
   "execution_count": 3,
   "id": "35b3308e",
   "metadata": {},
   "outputs": [
    {
     "name": "stdout",
     "output_type": "stream",
     "text": [
      "spamspamspam\n"
     ]
    }
   ],
   "source": [
    "Ans 8. Because a variable name should not start with a number."
   ]
  },
  {
   "cell_type": "code",
   "execution_count": null,
   "id": "b4e507da",
   "metadata": {},
   "outputs": [],
   "source": [
    "Ans 9. In Python, the three functions that can be used to get the integer, floating-point number, or string version of a value are:\n",
    "\n",
    "    int() - This function can be used to convert a value to an integer. If the argument passed to the int() function is a floating-point number or a string that represents an integer, it will be converted to an integer. For example:\n",
    "\n",
    "    int(3.5)\n",
    "    3\n",
    "    int(\"10\")\n",
    "    10\n",
    "    \n",
    "    \n",
    "    float() - This function can be used to convert a value to a floating-point number. If the argument passed to the float() function is an integer or a string that represents a floating-point number, it will be converted to a floating-point number. For example:\n",
    "    \n",
    "    float(10)\n",
    "    10.0\n",
    "    float(\"3.14\")\n",
    "    3.14\n"
   ]
  },
  {
   "cell_type": "code",
   "execution_count": null,
   "id": "524693ce",
   "metadata": {},
   "outputs": [],
   "source": [
    "Ans 10. The expression 'I have eaten ' + 99 + ' burritos.' causes a TypeError because you are trying to concatenate a string ('I have eaten ') with an integer (99) without first converting the integer to a string.\n",
    "        To fix this error, you need to convert the integer to a string before concatenating it with the other strings. \n",
    "        'I have eaten ' + str(99) + ' burritos.'\n"
   ]
  },
  {
   "cell_type": "code",
   "execution_count": null,
   "id": "119e5fd0",
   "metadata": {},
   "outputs": [],
   "source": [
    "Ans 11. if spam == 1:\n",
    "            print(\"Hello\")\n",
    "        elif spam == 2:\n",
    "            print(\"Howdy\")\n",
    "        else:\n",
    "            print(\"Greetings!\")"
   ]
  },
  {
   "cell_type": "code",
   "execution_count": null,
   "id": "710406ae",
   "metadata": {},
   "outputs": [],
   "source": [
    "Ans 12. If your program is stuck in an endless loop, you can press Ctrl + C (on Windows, Linux, and other Unix-based systems) or Command + C (on macOS) to stop the program."
   ]
  },
  {
   "cell_type": "code",
   "execution_count": null,
   "id": "6178b38d",
   "metadata": {},
   "outputs": [],
   "source": [
    "Ans 13.  Python, break and continue are two different control flow statements that are used to alter the behavior of loops.\n",
    "            'break' is used to exit a loop immediately when a certain condition is met. When a break statement is encountered inside a loop, the loop is terminated and the program execution continues with the next statement after the loop.\n",
    "            'continue' is used to skip the current iteration of a loop when a certain condition is met, but the loop will continue with the next iteration. When a continue statement is encountered inside a loop, the current iteration is terminated, and the program execution continues with the next iteration of the loop."
   ]
  },
  {
   "cell_type": "code",
   "execution_count": null,
   "id": "94eec3cb",
   "metadata": {},
   "outputs": [],
   "source": [
    "Ans 14. range(10) generates a sequence of numbers from 0 up to (but not including) 10. This is equivalent to range(0, 10, 1),\n",
    "        which explicitly sets the start value to 0 and the step value to 1.\n",
    "        range(0, 10) generates a sequence of numbers from 0 up to (but not including) 10, using an implicit step value of 1.\n",
    "        range(0, 10, 1) generates a sequence of numbers from 0 up to (but not including) 10, using an explicit step value of 1."
   ]
  },
  {
   "cell_type": "code",
   "execution_count": null,
   "id": "95267248",
   "metadata": {},
   "outputs": [],
   "source": [
    "Ans 15. for i in range(1, 11):\n",
    "            print(i)\n",
    "        \n",
    "        i = 1\n",
    "        while i <= 10:\n",
    "            print(i)\n",
    "            i += 1\n"
   ]
  },
  {
   "cell_type": "code",
   "execution_count": null,
   "id": "7abc6f1b",
   "metadata": {},
   "outputs": [],
   "source": [
    "Ans 16. ### To call function From module spam\n",
    "{python}\n",
    "# import the spam module\n",
    "import spam\n",
    "​\n",
    "# call the bacon() function from the spam module\n",
    "spam.bacon()\n",
    "\n",
    "### Statement of create funtion\n",
    "{python}\n",
    "def add_numbers(x, y):\n",
    "    result = x + y\n",
    "    return result\n",
    "# call the add_numbers function\n",
    "result = add_numbers(3, 5)\n",
    "​\n",
    "# print the result\n",
    "print(result)  # output: 8"
   ]
  },
  {
   "cell_type": "code",
   "execution_count": null,
   "id": "509a51d8",
   "metadata": {},
   "outputs": [],
   "source": [
    "Ans 17. A function is a block of code that performs a specific task. It is defined using the def statement, and it can take zero or more arguments as input and return zero or more values as output.\n",
    "\n",
    "        On the other hand, a function call is the act of invoking or executing a function that has already been defined. When you call a function, you pass it any required arguments, and it returns a value (if it has a return statement)."
   ]
  },
  {
   "cell_type": "code",
   "execution_count": null,
   "id": "adf61e0c",
   "metadata": {},
   "outputs": [],
   "source": [
    "Ans 18. In Python, there is only one global scope in a program. Any variables defined outside of a function or class definition belong to the global scope. On the other hand, local scopes are created whenever a function is called. These scopes are used to store variables that are only accessible within the function. When a function is finished executing, its local scope is destroyed, and any variables defined within the scope are lost.\n",
    "There is only one global scope and any number of local scopes depending on how many functions are called."
   ]
  },
  {
   "cell_type": "code",
   "execution_count": null,
   "id": "2c6f5443",
   "metadata": {},
   "outputs": [],
   "source": [
    "Ans 19. When a function call returns, the local scope is destroyed along with any variables that were defined within it. This means that any variable values stored in the local scope are lost and cannot be accessed outside of the function."
   ]
  },
  {
   "cell_type": "code",
   "execution_count": null,
   "id": "f3e4edc1",
   "metadata": {},
   "outputs": [],
   "source": [
    "Ans 20. A return value is the value that a function returns after it has completed its execution. When a function is called, it can perform some operations and return a value back to the caller. The return statement is used to specify the value that the function will return. Yes, it is possible to have a return value in an expression. This means that you can use a function call as part of a larger expression and use the returned value in calculations or other operations. Example:\n",
    "\n",
    "def square(x):\n",
    "    return x ** 2\n",
    "\n",
    "result = square(5) + 10\n",
    "print(result)  # this will print 35\n",
    "In this example, the square function returns the square of the input parameter x. The returned value is used in an expression that adds 10 to the square of 5, resulting in the value 35, which is stored in the result variable and then printed to the console"
   ]
  },
  {
   "cell_type": "code",
   "execution_count": null,
   "id": "ed6ad67c",
   "metadata": {},
   "outputs": [],
   "source": [
    "Ans 21. If a function does not have a return statement, the return value of a call to that function will be None."
   ]
  },
  {
   "cell_type": "code",
   "execution_count": null,
   "id": "fe7974a4",
   "metadata": {},
   "outputs": [],
   "source": [
    "Ans 22. \n",
    "x = 5  # global variable\n",
    "\n",
    "def print_x():\n",
    "    global x\n",
    "    print(x)\n",
    "\n",
    "print_x()  # this will print 5\n",
    "In this example, the print_x function uses the global keyword to indicate that it wants to use the global variable x, rather than creating a new local variable with the same name. The function then prints the value of x to the console, which is 5. When the function is called, it accesses the global variable x and prints its value."
   ]
  },
  {
   "cell_type": "code",
   "execution_count": null,
   "id": "57344753",
   "metadata": {},
   "outputs": [],
   "source": [
    "Ans 23. The data type of None is NoneType, which is a special type in Python that has only one value: None."
   ]
  },
  {
   "cell_type": "code",
   "execution_count": null,
   "id": "2010dda5",
   "metadata": {},
   "outputs": [],
   "source": [
    "Ans 24. The sentence import areallyourpetsnamederic is an import statement in Python, which attempts to import a module named areallyourpetsnamederic."
   ]
  },
  {
   "cell_type": "code",
   "execution_count": null,
   "id": "3b7bd9e9",
   "metadata": {},
   "outputs": [],
   "source": [
    "Ans 25. import spam\n",
    "        spam.bacon()\n",
    "    \n",
    "        we call it method or function"
   ]
  },
  {
   "cell_type": "code",
   "execution_count": null,
   "id": "9f20107b",
   "metadata": {},
   "outputs": [],
   "source": [
    "Ans 26. To save a program from crashing if it encounters an error, you can use exception handling. In Python, you can use the try and except statements to catch and handle exceptions. Example-:\n",
    "\n",
    "try:\n",
    "    with open('read.text','r') as f:\n",
    "        print(f.read())\n",
    "except ExceptionType:\n",
    "    print(\"File does'nt Exist\")"
   ]
  },
  {
   "cell_type": "code",
   "execution_count": null,
   "id": "2c74fbfc",
   "metadata": {},
   "outputs": [],
   "source": [
    "Ans 27. The try and except clauses are used for exception handling in Python.\n",
    "The try clause is used to enclose the code that might raise an exception\n",
    "The except clause is used to handle the exception if one is raised."
   ]
  },
  {
   "cell_type": "code",
   "execution_count": null,
   "id": "d49346b7",
   "metadata": {},
   "outputs": [],
   "source": [
    "Ans 28. In Python, [] is an empty list, which is a collection of values enclosed in square brackets and separated by commas. An empty list contains no elements."
   ]
  },
  {
   "cell_type": "code",
   "execution_count": null,
   "id": "03c8cdc2",
   "metadata": {},
   "outputs": [],
   "source": [
    "Ans 29. spam = [2, 4, 6, 8, 10]\n",
    "        spam[2] = 'hello'\n",
    "        print(spam)  # Output: [2, 4, 'hello', 8, 10]"
   ]
  }
 ],
 "metadata": {
  "kernelspec": {
   "display_name": "Python 3 (ipykernel)",
   "language": "python",
   "name": "python3"
  },
  "language_info": {
   "codemirror_mode": {
    "name": "ipython",
    "version": 3
   },
   "file_extension": ".py",
   "mimetype": "text/x-python",
   "name": "python",
   "nbconvert_exporter": "python",
   "pygments_lexer": "ipython3",
   "version": "3.10.9"
  }
 },
 "nbformat": 4,
 "nbformat_minor": 5
}
