{
 "cells": [
  {
   "cell_type": "code",
   "execution_count": null,
   "id": "2dc70771",
   "metadata": {},
   "outputs": [],
   "source": [
    "Question 1. In the below elements which of them are values or an expression? eg:- values can be integer or\n",
    "\n",
    "string and expressions will be mathematical operators.\n",
    "*\n",
    "‘VGU’\n",
    "-89.5\n",
    "-\n",
    "/\n",
    "+\n",
    "6"
   ]
  },
  {
   "cell_type": "code",
   "execution_count": null,
   "id": "2bc6ade6",
   "metadata": {},
   "outputs": [],
   "source": [
    "Ans 1. Values are 'VGU',-89.5,6 and expressions are *,-,/,+"
   ]
  },
  {
   "cell_type": "code",
   "execution_count": null,
   "id": "f5234519",
   "metadata": {},
   "outputs": [],
   "source": [
    "Question 2. What is the difference between string and variable?"
   ]
  },
  {
   "cell_type": "code",
   "execution_count": null,
   "id": "37753a73",
   "metadata": {},
   "outputs": [],
   "source": [
    "Ans 2. A Variable is a store of information, and a String is a type of information you would store in a Variable. A String is usually words, enclosed with \"\" Eg String x =\"Welcome to SoloLearn\" X is the Variable, and we declared it as a String, use the single = to assign the text to it."
   ]
  },
  {
   "cell_type": "code",
   "execution_count": null,
   "id": "99026a2a",
   "metadata": {},
   "outputs": [],
   "source": [
    "Question 3. Describe three different data types."
   ]
  },
  {
   "cell_type": "code",
   "execution_count": null,
   "id": "44b1da0d",
   "metadata": {},
   "outputs": [],
   "source": [
    "Ans 3. Strings \t\"Hello!\", \"23.34\" \tText - anything between \" \"  becomes string \tImmutable\n",
    "        Integers \t5364 \tWhole numbers \tImmutable\n",
    "        Floats \t3.1415 \tDecimal Numbers \tImmutable"
   ]
  },
  {
   "cell_type": "code",
   "execution_count": null,
   "id": "830f507c",
   "metadata": {},
   "outputs": [],
   "source": [
    "Question 4. What is an expression made up of? What do all expressions do?"
   ]
  },
  {
   "cell_type": "code",
   "execution_count": null,
   "id": "3302f07e",
   "metadata": {},
   "outputs": [],
   "source": [
    "Ans 4. An expression in Python is a combination of operators and operands. An example of expression can be : x = x + 1 0 x = x + 10 x=x+10. In this expression, the first 1 0 10 10 is added to the variable x. After the addition is performed, the result is assigned to the variable x."
   ]
  },
  {
   "cell_type": "code",
   "execution_count": null,
   "id": "10d1beb0",
   "metadata": {},
   "outputs": [],
   "source": [
    "Question 5. This assignment statements, like spam = 10. What is the difference between an expression and a statement?"
   ]
  },
  {
   "cell_type": "code",
   "execution_count": null,
   "id": "c6f7f9e4",
   "metadata": {},
   "outputs": [],
   "source": [
    "Ans 5. An expression is a combination of one or more values, operators, and/or function calls that can be evaluated to produce a single value. For example, 2 + 3 is an expression that evaluates to 5, and len(\"hello\") is an expression that evaluates to 5.\n",
    "\n",
    "On the other hand, a statement is a complete line of code that performs a specific action, such as assigning a value to a variable or calling a function. The assignment statement spam = 10 is an example of a statement, as it assigns the value 10 to the variable spam.\n",
    "\n",
    "In short, an expression produces a value, whereas a statement performs an action."
   ]
  },
  {
   "cell_type": "code",
   "execution_count": null,
   "id": "969b2719",
   "metadata": {},
   "outputs": [],
   "source": [
    "Question 6. After running the following code, what does the variable bacon contain?\n",
    "\n",
    "bacon = 22\n",
    "bacon + 1"
   ]
  },
  {
   "cell_type": "code",
   "execution_count": null,
   "id": "9d6a7d74",
   "metadata": {},
   "outputs": [],
   "source": [
    "Ans 6. 22"
   ]
  },
  {
   "cell_type": "code",
   "execution_count": null,
   "id": "d37425bf",
   "metadata": {},
   "outputs": [],
   "source": [
    "Question 7. What should the values of the following two terms be?\n",
    "\n",
    "'spam' + 'spamspam'\n",
    "'spam' * 3"
   ]
  },
  {
   "cell_type": "code",
   "execution_count": 1,
   "id": "6b21860c",
   "metadata": {},
   "outputs": [
    {
     "name": "stdout",
     "output_type": "stream",
     "text": [
      "22\n"
     ]
    }
   ],
   "source": [
    "Ans 7. spamspamspam\n",
    "        spamspamspam"
   ]
  },
  {
   "cell_type": "code",
   "execution_count": null,
   "id": "ab203134",
   "metadata": {},
   "outputs": [],
   "source": [
    "Question 8. Why dorito is a valid variable name while 78 is invalid?"
   ]
  },
  {
   "cell_type": "code",
   "execution_count": 3,
   "id": "f910f876",
   "metadata": {},
   "outputs": [
    {
     "name": "stdout",
     "output_type": "stream",
     "text": [
      "spamspamspam\n"
     ]
    }
   ],
   "source": [
    "Ans 8. Because a variable name should not start with a number."
   ]
  },
  {
   "cell_type": "code",
   "execution_count": null,
   "id": "08b95a0e",
   "metadata": {},
   "outputs": [],
   "source": [
    "Question 9. What three functions can be used to get the integer, floating-point number, or string version of a\n",
    "\n",
    "value?"
   ]
  },
  {
   "cell_type": "code",
   "execution_count": null,
   "id": "3620f36d",
   "metadata": {},
   "outputs": [],
   "source": [
    "Ans 9. In Python, the three functions that can be used to get the integer, floating-point number, or string version of a value are:\n",
    "\n",
    "    int() - This function can be used to convert a value to an integer. If the argument passed to the int() function is a floating-point number or a string that represents an integer, it will be converted to an integer. For example:\n",
    "\n",
    "    int(3.5)\n",
    "    3\n",
    "    int(\"10\")\n",
    "    10\n",
    "    \n",
    "    \n",
    "    float() - This function can be used to convert a value to a floating-point number. If the argument passed to the float() function is an integer or a string that represents a floating-point number, it will be converted to a floating-point number. For example:\n",
    "    \n",
    "    float(10)\n",
    "    10.0\n",
    "    float(\"3.14\")\n",
    "    3.14\n"
   ]
  },
  {
   "cell_type": "code",
   "execution_count": null,
   "id": "f38c47fb",
   "metadata": {},
   "outputs": [],
   "source": [
    "Question 10. Why does this expression cause an error? How can you fix it?\n",
    "\n",
    "'I have eaten ' + 99 + ' burritos.'"
   ]
  },
  {
   "cell_type": "code",
   "execution_count": null,
   "id": "29f982a2",
   "metadata": {},
   "outputs": [],
   "source": [
    "Ans 10. The expression 'I have eaten ' + 99 + ' burritos.' causes a TypeError because you are trying to concatenate a string ('I have eaten ') with an integer (99) without first converting the integer to a string.\n",
    "        To fix this error, you need to convert the integer to a string before concatenating it with the other strings. \n",
    "        'I have eaten ' + str(99) + ' burritos.'\n"
   ]
  },
  {
   "cell_type": "code",
   "execution_count": null,
   "id": "dbeba103",
   "metadata": {},
   "outputs": [],
   "source": [
    "Question 11. Write code that prints Hello if 1 is stored in spam, prints Howdy if 2 is stored in spam, and prints\n",
    "\n",
    "Greetings! if anything else is stored in spam."
   ]
  },
  {
   "cell_type": "code",
   "execution_count": null,
   "id": "03548852",
   "metadata": {},
   "outputs": [],
   "source": [
    "Ans 11. if spam == 1:\n",
    "            print(\"Hello\")\n",
    "        elif spam == 2:\n",
    "            print(\"Howdy\")\n",
    "        else:\n",
    "            print(\"Greetings!\")"
   ]
  },
  {
   "cell_type": "code",
   "execution_count": null,
   "id": "badd47b7",
   "metadata": {},
   "outputs": [],
   "source": [
    "Question 12. If your programme is stuck in an endless loop, what keys you’ll press?"
   ]
  },
  {
   "cell_type": "code",
   "execution_count": null,
   "id": "b795c8a4",
   "metadata": {},
   "outputs": [],
   "source": [
    "Ans 12. If your program is stuck in an endless loop, you can press Ctrl + C (on Windows, Linux, and other Unix-based systems) or Command + C (on macOS) to stop the program."
   ]
  },
  {
   "cell_type": "code",
   "execution_count": null,
   "id": "30fd6da4",
   "metadata": {},
   "outputs": [],
   "source": [
    "Question 13. How can you tell the difference between break and continue?"
   ]
  },
  {
   "cell_type": "code",
   "execution_count": null,
   "id": "ede91a70",
   "metadata": {},
   "outputs": [],
   "source": [
    "Ans 13.  Python, break and continue are two different control flow statements that are used to alter the behavior of loops.\n",
    "            'break' is used to exit a loop immediately when a certain condition is met. When a break statement is encountered inside a loop, the loop is terminated and the program execution continues with the next statement after the loop.\n",
    "            'continue' is used to skip the current iteration of a loop when a certain condition is met, but the loop will continue with the next iteration. When a continue statement is encountered inside a loop, the current iteration is terminated, and the program execution continues with the next iteration of the loop."
   ]
  },
  {
   "cell_type": "code",
   "execution_count": null,
   "id": "b340baed",
   "metadata": {},
   "outputs": [],
   "source": [
    "Question 14. In a for loop, what is the difference between range(10), range(0, 10), and range(0, 10, 1)?"
   ]
  },
  {
   "cell_type": "code",
   "execution_count": null,
   "id": "97c463f7",
   "metadata": {},
   "outputs": [],
   "source": [
    "Ans 14. range(10) generates a sequence of numbers from 0 up to (but not including) 10. This is equivalent to range(0, 10, 1),\n",
    "        which explicitly sets the start value to 0 and the step value to 1.\n",
    "        range(0, 10) generates a sequence of numbers from 0 up to (but not including) 10, using an implicit step value of 1.\n",
    "        range(0, 10, 1) generates a sequence of numbers from 0 up to (but not including) 10, using an explicit step value of 1."
   ]
  },
  {
   "cell_type": "code",
   "execution_count": null,
   "id": "776beb90",
   "metadata": {},
   "outputs": [],
   "source": [
    "Question 15. Write a short program that prints the numbers 1 to 10 using a for loop. Then write an equivalent\n",
    "\n",
    "program that prints the numbers 1 to 10 using a while loop."
   ]
  },
  {
   "cell_type": "code",
   "execution_count": null,
   "id": "83078aeb",
   "metadata": {},
   "outputs": [],
   "source": [
    "Ans 15. for i in range(1, 11):\n",
    "            print(i)\n",
    "        \n",
    "        i = 1\n",
    "        while i <= 10:\n",
    "            print(i)\n",
    "            i += 1\n"
   ]
  },
  {
   "cell_type": "code",
   "execution_count": null,
   "id": "19ed0668",
   "metadata": {},
   "outputs": [],
   "source": [
    "Question 16. If you had a function named bacon() inside a module named spam, how would you call it after\n",
    "\n",
    "importing spam? What statement creates a function?"
   ]
  },
  {
   "cell_type": "code",
   "execution_count": null,
   "id": "573034ca",
   "metadata": {},
   "outputs": [],
   "source": [
    "Ans 16. ### To call function From module spam\n",
    "{python}\n",
    "# import the spam module\n",
    "import spam\n",
    "​\n",
    "# call the bacon() function from the spam module\n",
    "spam.bacon()\n",
    "\n",
    "### Statement of create funtion\n",
    "{python}\n",
    "def add_numbers(x, y):\n",
    "    result = x + y\n",
    "    return result\n",
    "# call the add_numbers function\n",
    "result = add_numbers(3, 5)\n",
    "​\n",
    "# print the result\n",
    "print(result)  # output: 8"
   ]
  },
  {
   "cell_type": "code",
   "execution_count": null,
   "id": "21d1bf3a",
   "metadata": {},
   "outputs": [],
   "source": [
    "Question 17. What is the difference between a function and a function call?"
   ]
  },
  {
   "cell_type": "code",
   "execution_count": null,
   "id": "d20b1558",
   "metadata": {},
   "outputs": [],
   "source": [
    "Ans 17. A function is a block of code that performs a specific task. It is defined using the def statement, and it can take zero or more arguments as input and return zero or more values as output.\n",
    "\n",
    "        On the other hand, a function call is the act of invoking or executing a function that has already been defined. When you call a function, you pass it any required arguments, and it returns a value (if it has a return statement)."
   ]
  },
  {
   "cell_type": "code",
   "execution_count": null,
   "id": "e5ca7f0f",
   "metadata": {},
   "outputs": [],
   "source": [
    "Question 18. How many global scopes are there in a Python program? How many local scopes?"
   ]
  },
  {
   "cell_type": "code",
   "execution_count": null,
   "id": "f6b63a9b",
   "metadata": {},
   "outputs": [],
   "source": [
    "Ans 18. In Python, there is only one global scope in a program. Any variables defined outside of a function or class definition belong to the global scope. On the other hand, local scopes are created whenever a function is called. These scopes are used to store variables that are only accessible within the function. When a function is finished executing, its local scope is destroyed, and any variables defined within the scope are lost.\n",
    "There is only one global scope and any number of local scopes depending on how many functions are called."
   ]
  },
  {
   "cell_type": "code",
   "execution_count": null,
   "id": "0806c952",
   "metadata": {},
   "outputs": [],
   "source": [
    "Question 19. What happens to variables in a local scope when the function call returns?"
   ]
  },
  {
   "cell_type": "code",
   "execution_count": null,
   "id": "2ce6557a",
   "metadata": {},
   "outputs": [],
   "source": [
    "Ans 19. When a function call returns, the local scope is destroyed along with any variables that were defined within it. This means that any variable values stored in the local scope are lost and cannot be accessed outside of the function."
   ]
  },
  {
   "cell_type": "code",
   "execution_count": null,
   "id": "4b8882e4",
   "metadata": {},
   "outputs": [],
   "source": [
    "Question 20. What is the concept of a return value? Is it possible to have a return value in an expression?"
   ]
  },
  {
   "cell_type": "code",
   "execution_count": null,
   "id": "b2bf6ac1",
   "metadata": {},
   "outputs": [],
   "source": [
    "Ans 20. A return value is the value that a function returns after it has completed its execution. When a function is called, it can perform some operations and return a value back to the caller. The return statement is used to specify the value that the function will return. Yes, it is possible to have a return value in an expression. This means that you can use a function call as part of a larger expression and use the returned value in calculations or other operations. Example:\n",
    "\n",
    "def square(x):\n",
    "    return x ** 2\n",
    "\n",
    "result = square(5) + 10\n",
    "print(result)  # this will print 35\n",
    "In this example, the square function returns the square of the input parameter x. The returned value is used in an expression that adds 10 to the square of 5, resulting in the value 35, which is stored in the result variable and then printed to the console"
   ]
  },
  {
   "cell_type": "code",
   "execution_count": null,
   "id": "100b789f",
   "metadata": {},
   "outputs": [],
   "source": [
    "Question 21. If a function does not have a return statement, what is the return value of a call to that function?"
   ]
  },
  {
   "cell_type": "code",
   "execution_count": null,
   "id": "2c00152b",
   "metadata": {},
   "outputs": [],
   "source": [
    "Ans 21. If a function does not have a return statement, the return value of a call to that function will be None."
   ]
  },
  {
   "cell_type": "code",
   "execution_count": null,
   "id": "47b3a605",
   "metadata": {},
   "outputs": [],
   "source": [
    "Question 22. How do you make a function variable refer to the global variable?"
   ]
  },
  {
   "cell_type": "code",
   "execution_count": null,
   "id": "a6b0dde0",
   "metadata": {},
   "outputs": [],
   "source": [
    "Ans 22. \n",
    "x = 5  # global variable\n",
    "\n",
    "def print_x():\n",
    "    global x\n",
    "    print(x)\n",
    "\n",
    "print_x()  # this will print 5\n",
    "In this example, the print_x function uses the global keyword to indicate that it wants to use the global variable x, rather than creating a new local variable with the same name. The function then prints the value of x to the console, which is 5. When the function is called, it accesses the global variable x and prints its value."
   ]
  },
  {
   "cell_type": "code",
   "execution_count": null,
   "id": "ef4b5b12",
   "metadata": {},
   "outputs": [],
   "source": [
    "Question 23. What is the data type of None?"
   ]
  },
  {
   "cell_type": "code",
   "execution_count": null,
   "id": "b8eebba8",
   "metadata": {},
   "outputs": [],
   "source": [
    "Ans 23. The data type of None is NoneType, which is a special type in Python that has only one value: None."
   ]
  },
  {
   "cell_type": "code",
   "execution_count": null,
   "id": "11222359",
   "metadata": {},
   "outputs": [],
   "source": [
    "Question 24. What does the sentence import areallyourpetsnamederic do?"
   ]
  },
  {
   "cell_type": "code",
   "execution_count": null,
   "id": "1ec17203",
   "metadata": {},
   "outputs": [],
   "source": [
    "Ans 24. The sentence import areallyourpetsnamederic is an import statement in Python, which attempts to import a module named areallyourpetsnamederic."
   ]
  },
  {
   "cell_type": "code",
   "execution_count": null,
   "id": "205bcd5d",
   "metadata": {},
   "outputs": [],
   "source": [
    "Question 25. If you had a bacon() feature in a spam module, what would you call it after importing spam?"
   ]
  },
  {
   "cell_type": "code",
   "execution_count": null,
   "id": "4cecd3f8",
   "metadata": {},
   "outputs": [],
   "source": [
    "Ans 25. import spam\n",
    "        spam.bacon()\n",
    "    \n",
    "        we call it method or function"
   ]
  },
  {
   "cell_type": "code",
   "execution_count": null,
   "id": "d44a813d",
   "metadata": {},
   "outputs": [],
   "source": [
    "Question 26. What can you do to save a programme from crashing if it encounters an error?"
   ]
  },
  {
   "cell_type": "code",
   "execution_count": null,
   "id": "18bd87a1",
   "metadata": {},
   "outputs": [],
   "source": [
    "Ans 26. To save a program from crashing if it encounters an error, you can use exception handling. In Python, you can use the try and except statements to catch and handle exceptions. Example-:\n",
    "\n",
    "try:\n",
    "    with open('read.text','r') as f:\n",
    "        print(f.read())\n",
    "except ExceptionType:\n",
    "    print(\"File does'nt Exist\")"
   ]
  },
  {
   "cell_type": "code",
   "execution_count": null,
   "id": "8e9bb99e",
   "metadata": {},
   "outputs": [],
   "source": [
    "Question 27. What is the purpose of the try clause? What is the purpose of the except clause?"
   ]
  },
  {
   "cell_type": "code",
   "execution_count": null,
   "id": "ad959aae",
   "metadata": {},
   "outputs": [],
   "source": [
    "Ans 27. The try and except clauses are used for exception handling in Python.\n",
    "The try clause is used to enclose the code that might raise an exception\n",
    "The except clause is used to handle the exception if one is raised."
   ]
  },
  {
   "cell_type": "code",
   "execution_count": null,
   "id": "09fedccf",
   "metadata": {},
   "outputs": [],
   "source": [
    "Question 28. What exactly is []?"
   ]
  },
  {
   "cell_type": "code",
   "execution_count": null,
   "id": "475782fc",
   "metadata": {},
   "outputs": [],
   "source": [
    "Ans 28. In Python, [] is an empty list, which is a collection of values enclosed in square brackets and separated by commas. An empty list contains no elements."
   ]
  },
  {
   "cell_type": "code",
   "execution_count": null,
   "id": "9386a10a",
   "metadata": {},
   "outputs": [],
   "source": [
    "Question 29. In a list of values stored in a variable called spam, how would you assign the value 'hello' as the\n",
    "\n",
    "third value? (Assume [2, 4, 6, 8, 10] are in spam.)"
   ]
  },
  {
   "cell_type": "code",
   "execution_count": null,
   "id": "ed571607",
   "metadata": {},
   "outputs": [],
   "source": [
    "Ans 29. spam = [2, 4, 6, 8, 10]\n",
    "        spam[2] = 'hello'\n",
    "        print(spam)  # Output: [2, 4, 'hello', 8, 10]"
   ]
  },
  {
   "cell_type": "code",
   "execution_count": null,
   "id": "877593a2",
   "metadata": {},
   "outputs": [],
   "source": []
  }
 ],
 "metadata": {
  "kernelspec": {
   "display_name": "Python 3 (ipykernel)",
   "language": "python",
   "name": "python3"
  },
  "language_info": {
   "codemirror_mode": {
    "name": "ipython",
    "version": 3
   },
   "file_extension": ".py",
   "mimetype": "text/x-python",
   "name": "python",
   "nbconvert_exporter": "python",
   "pygments_lexer": "ipython3",
   "version": "3.10.9"
  }
 },
 "nbformat": 4,
 "nbformat_minor": 5
}
