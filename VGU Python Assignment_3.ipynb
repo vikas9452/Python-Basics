{
 "cells": [
  {
   "cell_type": "markdown",
   "id": "2a8e9505",
   "metadata": {},
   "source": [
    "## Question 1.\tPython program to add two numbers\n",
    "\n"
   ]
  },
  {
   "cell_type": "code",
   "execution_count": 1,
   "id": "94db056f",
   "metadata": {},
   "outputs": [
    {
     "name": "stdout",
     "output_type": "stream",
     "text": [
      "Enter 1st number: 2\n",
      "Enter 2nd number: 3\n",
      "Sum is 5\n"
     ]
    }
   ],
   "source": [
    "a = int(input(\"Enter 1st number: \"))\n",
    "b = int(input(\"Enter 2nd number: \"))\n",
    "\n",
    "print(\"Sum is\",a+b)"
   ]
  },
  {
   "cell_type": "markdown",
   "id": "04f077a5",
   "metadata": {},
   "source": [
    "## Question 2.Maximum of two numbers in Python\n"
   ]
  },
  {
   "cell_type": "code",
   "execution_count": 4,
   "id": "de8dcf82",
   "metadata": {},
   "outputs": [
    {
     "name": "stdout",
     "output_type": "stream",
     "text": [
      "Enter 1st number: 2\n",
      "Enter 2nd number: 1\n"
     ]
    },
    {
     "data": {
      "text/plain": [
       "2"
      ]
     },
     "execution_count": 4,
     "metadata": {},
     "output_type": "execute_result"
    }
   ],
   "source": [
    "a = int(input(\"Enter 1st number: \"))\n",
    "b = int(input(\"Enter 2nd number: \"))\n",
    "\n",
    "a if a>b else b"
   ]
  },
  {
   "cell_type": "markdown",
   "id": "1efa765f",
   "metadata": {},
   "source": [
    "## Question 3.\tPython Program for factorial of a number\n"
   ]
  },
  {
   "cell_type": "code",
   "execution_count": 4,
   "id": "053d1d5c",
   "metadata": {},
   "outputs": [
    {
     "name": "stdout",
     "output_type": "stream",
     "text": [
      "Enter 1st number: 5\n",
      "120\n"
     ]
    }
   ],
   "source": [
    "a = int(input(\"Enter 1st number: \"))\n",
    "\n",
    "def fun(a):\n",
    "    if(a == 1):\n",
    "        return 1\n",
    "    else:\n",
    "        return a*fun(a-1)\n",
    "    \n",
    "print(fun(a))"
   ]
  },
  {
   "cell_type": "markdown",
   "id": "33404611",
   "metadata": {},
   "source": [
    "## 4.\tPython Program for simple interest\n"
   ]
  },
  {
   "cell_type": "code",
   "execution_count": 5,
   "id": "2594116c",
   "metadata": {},
   "outputs": [
    {
     "name": "stdout",
     "output_type": "stream",
     "text": [
      "Enter principal: 43\n",
      "Enter rate: 23\n",
      "Enter time: 2\n",
      "The Simple Interest is 19.78\n"
     ]
    }
   ],
   "source": [
    "p = float(input(\"Enter principal: \"))\n",
    "r = float(input(\"Enter rate: \"))\n",
    "t = float(input(\"Enter time: \"))\n",
    "\n",
    "si = (p * t * r)/100\n",
    "     \n",
    "print('The Simple Interest is', si)\n"
   ]
  },
  {
   "cell_type": "markdown",
   "id": "d34f4a13",
   "metadata": {},
   "source": [
    "## 5.\tPython Program for compound interest\n"
   ]
  },
  {
   "cell_type": "code",
   "execution_count": 7,
   "id": "dcb67c1a",
   "metadata": {},
   "outputs": [
    {
     "name": "stdout",
     "output_type": "stream",
     "text": [
      "Enter principal: 10000\n",
      "Enter rate: 10.4\n",
      "Enter time: 5\n",
      "Compound interest is 6400.057358090249\n"
     ]
    }
   ],
   "source": [
    "p = float(input(\"Enter principal: \"))\n",
    "r = float(input(\"Enter rate: \"))\n",
    "t = float(input(\"Enter time: \"))\n",
    "\n",
    "Amount = p * (pow((1 + r / 100), t))\n",
    "CI = Amount - p\n",
    "print(\"Compound interest is\", CI)"
   ]
  },
  {
   "cell_type": "markdown",
   "id": "f5bc28d2",
   "metadata": {},
   "source": [
    "## 6.\tPython Program to check Armstrong Number\n"
   ]
  },
  {
   "cell_type": "code",
   "execution_count": 13,
   "id": "c75e2e08",
   "metadata": {},
   "outputs": [
    {
     "name": "stdout",
     "output_type": "stream",
     "text": [
      "Enter number of digits: 5\n",
      "Enter number: 54748\n",
      "yes\n"
     ]
    }
   ],
   "source": [
    "import math\n",
    "d = int(input(\"Enter number of digits: \"))\n",
    "n = int(input(\"Enter number: \"))\n",
    "\n",
    "temp = n \n",
    "a = 0\n",
    "b = 1\n",
    "while(temp != 0):\n",
    "    b = temp%10\n",
    "    c = math.pow(b,d)\n",
    "    a += c\n",
    "    temp = temp//10\n",
    "if a==n:\n",
    "    print(\"YES\")\n",
    "else:\n",
    "    print(\"NO\")\n",
    "    "
   ]
  },
  {
   "cell_type": "markdown",
   "id": "d30c6f3c",
   "metadata": {},
   "source": [
    "## 7.\tPython Program for Program to find area of a circle\n"
   ]
  },
  {
   "cell_type": "code",
   "execution_count": null,
   "id": "76c4ed03",
   "metadata": {},
   "outputs": [],
   "source": [
    "import math as M  \n",
    "Radius = float (input (\"Please enter the radius of the given circle: \"))  \n",
    "area_of_the_circle = M.pi* Radius * Radius  \n",
    "print (\" The area of the given circle is: \", area_of_the_circle)  "
   ]
  },
  {
   "cell_type": "markdown",
   "id": "1a8ead25",
   "metadata": {},
   "source": [
    "## 8.\tPython program to print all Prime numbers in an Interval\n"
   ]
  },
  {
   "cell_type": "code",
   "execution_count": 84,
   "id": "74e2ff11",
   "metadata": {},
   "outputs": [
    {
     "name": "stdout",
     "output_type": "stream",
     "text": [
      "Enter first interval: 3\n",
      "Enter last interval: 100\n",
      "3\n",
      "5\n",
      "7\n",
      "11\n",
      "13\n",
      "17\n",
      "19\n",
      "23\n",
      "29\n",
      "31\n",
      "37\n",
      "41\n",
      "43\n",
      "47\n",
      "53\n",
      "59\n",
      "61\n",
      "67\n",
      "71\n",
      "73\n",
      "79\n",
      "83\n",
      "89\n",
      "97\n"
     ]
    }
   ],
   "source": [
    "a = int(input(\"Enter first interval: \"))\n",
    "b = int(input(\"Enter last interval: \"))\n",
    "flag = True\n",
    "for i in range(a,b+1):\n",
    "    for j in range(2,i):\n",
    "        if i%j == 0:\n",
    "            flag = False\n",
    "            break\n",
    "    if flag:\n",
    "        print(i)\n",
    "    flag =True\n",
    "        \n"
   ]
  },
  {
   "cell_type": "markdown",
   "id": "c50e2117",
   "metadata": {},
   "source": [
    "## 9.\tPython program to check whether a number is Prime or not\n"
   ]
  },
  {
   "cell_type": "code",
   "execution_count": 45,
   "id": "8d36a3e1",
   "metadata": {},
   "outputs": [
    {
     "name": "stdout",
     "output_type": "stream",
     "text": [
      "Enter first interval: 11\n",
      "Prime\n"
     ]
    }
   ],
   "source": [
    "a = int(input(\"Enter first interval: \"))\n",
    "flag = True\n",
    "for i in range(2,a//2+1):\n",
    "    if a%i == 0:\n",
    "        flag = False\n",
    "        break\n",
    "if flag:\n",
    "    print(\"Prime\")\n",
    "else:\n",
    "    print(\"Not Prime\")"
   ]
  },
  {
   "cell_type": "markdown",
   "id": "b9af7e39",
   "metadata": {},
   "source": [
    "## 10.\tPython Program for n-th Fibonacci number\n"
   ]
  },
  {
   "cell_type": "code",
   "execution_count": 99,
   "id": "a9090f85",
   "metadata": {},
   "outputs": [
    {
     "name": "stdout",
     "output_type": "stream",
     "text": [
      "Enter n: 19\n",
      "4181\n"
     ]
    }
   ],
   "source": [
    "n = int(input(\"Enter n: \"))\n",
    "\n",
    "b = 0\n",
    "c = 1\n",
    "d = 2\n",
    "temp = 0\n",
    "\n",
    "while(d<=n):\n",
    "    temp = b+c\n",
    "    b = c\n",
    "    c = temp \n",
    "    d += 1\n",
    "if n==1:\n",
    "    print(c)\n",
    "else:\n",
    "    print(temp)"
   ]
  },
  {
   "cell_type": "markdown",
   "id": "d5f9d672",
   "metadata": {},
   "source": [
    "## 11.\tPython Program for How to check if a given number is Fibonacci number?\n"
   ]
  },
  {
   "cell_type": "code",
   "execution_count": 68,
   "id": "357a8c96",
   "metadata": {},
   "outputs": [
    {
     "name": "stdout",
     "output_type": "stream",
     "text": [
      "Enter number: 200386689975542405709091781656323757608500558774338041350112205\n",
      "False\n"
     ]
    }
   ],
   "source": [
    "n = int(input(\"Enter number: \"))\n",
    "\n",
    "b = 0\n",
    "c = 1\n",
    "d = 2\n",
    "temp = 0\n",
    "flag = False\n",
    "while(temp<=n):\n",
    "    temp = b+c\n",
    "    b = c\n",
    "    c = temp \n",
    "    d += 1\n",
    "    if(temp == n):\n",
    "        flag = True\n",
    "        break\n",
    "print(flag)"
   ]
  },
  {
   "cell_type": "markdown",
   "id": "c4673598",
   "metadata": {},
   "source": [
    "## 12.\tPython Program for n\\’th multiple of a number in Fibonacci Series\n"
   ]
  },
  {
   "cell_type": "code",
   "execution_count": 107,
   "id": "4d7960f0",
   "metadata": {},
   "outputs": [
    {
     "name": "stdout",
     "output_type": "stream",
     "text": [
      "Enter n: 3\n",
      "Enter k: 10\n",
      "Position of n'th multiple of k in Fibonacci Series is 45\n"
     ]
    }
   ],
   "source": [
    "n = int(input(\"Enter n: \"))\n",
    "k = int(input(\"Enter k: \"))\n",
    "\n",
    "def findPosition(k, n):\n",
    "    f1 = 0\n",
    "    f2 = 1\n",
    "    i = 2;\n",
    "    while i!=0:\n",
    "        f3 = f1 + f2;\n",
    "        f1 = f2;\n",
    "        f2 = f3;\n",
    "\n",
    "        if f2%k == 0:\n",
    "            return n*i\n",
    "        i+=1\n",
    "    return\n",
    "\n",
    "print(\"Position of n\\'th multiple of k in Fibonacci Series is\", findPosition(k,n));\n"
   ]
  },
  {
   "cell_type": "markdown",
   "id": "118bb78a",
   "metadata": {},
   "source": [
    "## 13.\tProgram to print ASCII Value of a character\n"
   ]
  },
  {
   "cell_type": "code",
   "execution_count": 73,
   "id": "d8d0a89b",
   "metadata": {},
   "outputs": [
    {
     "name": "stdout",
     "output_type": "stream",
     "text": [
      "Enter number: 4\n",
      "52\n"
     ]
    }
   ],
   "source": [
    "n = (input(\"Enter number: \"))\n",
    "print(ord(n))"
   ]
  },
  {
   "cell_type": "markdown",
   "id": "f9780302",
   "metadata": {},
   "source": [
    "## 14.\tPython Program for Sum of squares of first n natural numbers\n"
   ]
  },
  {
   "cell_type": "code",
   "execution_count": 78,
   "id": "0ea949d1",
   "metadata": {},
   "outputs": [
    {
     "name": "stdout",
     "output_type": "stream",
     "text": [
      "Enter number: 5\n",
      "55\n"
     ]
    }
   ],
   "source": [
    "n = int(input(\"Enter number: \"))\n",
    "i = 0\n",
    "count = 0\n",
    "while (i<=n):\n",
    "    count += i**2\n",
    "    i+=1\n",
    "print(count)"
   ]
  },
  {
   "cell_type": "markdown",
   "id": "9b61fe88",
   "metadata": {},
   "source": [
    "## 15.\tPython Program for cube sum of first n natural numbers"
   ]
  },
  {
   "cell_type": "code",
   "execution_count": 79,
   "id": "47eb1556",
   "metadata": {},
   "outputs": [
    {
     "name": "stdout",
     "output_type": "stream",
     "text": [
      "Enter number: 5\n",
      "225\n"
     ]
    }
   ],
   "source": [
    "n = int(input(\"Enter number: \"))\n",
    "i = 0\n",
    "count = 0\n",
    "while (i<=n):\n",
    "    count += i**3\n",
    "    i+=1\n",
    "print(count)"
   ]
  },
  {
   "cell_type": "code",
   "execution_count": null,
   "id": "15b1e4b9",
   "metadata": {},
   "outputs": [],
   "source": []
  },
  {
   "cell_type": "code",
   "execution_count": 54,
   "id": "81ab3c4f",
   "metadata": {},
   "outputs": [
    {
     "name": "stdout",
     "output_type": "stream",
     "text": [
      "Enter first interval: 3\n",
      "Enter last interval: 10\n",
      "5\n"
     ]
    }
   ],
   "source": [
    "a = int(input(\"Enter first interval: \"))\n",
    "b = int(input(\"Enter last interval: \"))\n",
    "flag = True\n",
    "\n",
    "for i in range(a,b+1):\n",
    "    for j in range(2,i//2+1):\n",
    "        if i%j == 0:\n",
    "            flag = False\n",
    "            break\n",
    "    if flag:\n",
    "        print(j)"
   ]
  }
 ],
 "metadata": {
  "kernelspec": {
   "display_name": "Python 3 (ipykernel)",
   "language": "python",
   "name": "python3"
  },
  "language_info": {
   "codemirror_mode": {
    "name": "ipython",
    "version": 3
   },
   "file_extension": ".py",
   "mimetype": "text/x-python",
   "name": "python",
   "nbconvert_exporter": "python",
   "pygments_lexer": "ipython3",
   "version": "3.10.9"
  }
 },
 "nbformat": 4,
 "nbformat_minor": 5
}
